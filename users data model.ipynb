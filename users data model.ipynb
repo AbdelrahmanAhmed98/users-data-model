{
 "cells": [
  {
   "cell_type": "code",
   "execution_count": 1,
   "id": "983f75f4",
   "metadata": {},
   "outputs": [],
   "source": [
    "import requests"
   ]
  },
  {
   "cell_type": "code",
   "execution_count": 2,
   "id": "a66e8040",
   "metadata": {},
   "outputs": [
    {
     "data": {
      "text/plain": [
       "b'{\"code\":200,\"meta\":{\"pagination\":{\"total\":2199,\"pages\":110,\"page\":1,\"limit\":20}},\"data\":[{\"id\":6817,\"name\":\"API Monitoring:246mx\",\"email\":\"apimonitoring246mx@synthetic.com\",\"gender\":\"male\",\"status\":\"active\"},{\"id\":6821,\"name\":\"API Monitoring:9ilyoq\",\"email\":\"apimonitoring9ilyoq@synthetic.com\",\"gender\":\"male\",\"status\":\"active\"},{\"id\":6869,\"name\":\"API Monitoring:cc3s1x\",\"email\":\"apimonitoringcc3s1x@synthetic.com\",\"gender\":\"male\",\"status\":\"active\"},{\"id\":5428,\"name\":\"NewID${Random}\",\"email\":\"bramakrishnareddy@1634904829086ce.com\",\"gender\":\"male\",\"status\":\"active\"},{\"id\":5406,\"name\":\"NewID${Random}\",\"email\":\"bramakrishnareddy@1634904734512ce.com\",\"gender\":\"male\",\"status\":\"active\"},{\"id\":5407,\"name\":\"Ricardo Lopez\",\"email\":\"bramakrishnareddy@1634904739425ce.com\",\"gender\":\"male\",\"status\":\"active\"},{\"id\":5450,\"name\":\"NewID${Random}\",\"email\":\"bramakrishnareddy@1634904929325ce.com\",\"gender\":\"male\",\"status\":\"active\"},{\"id\":5397,\"name\":\"NewID${Random}\",\"email\":\"bramakrishnareddy@1634904694677ce.com\",\"gender\":\"male\",\"status\":\"active\"},{\"id\":6874,\"name\":\"API Monitoring:v5so5\",\"email\":\"apimonitoringv5so5@synthetic.com\",\"gender\":\"male\",\"status\":\"active\"},{\"id\":1556,\"name\":\"NewID${Random}\",\"email\":\"apimonitoringc1bki@synthetic.com\",\"gender\":\"male\",\"status\":\"active\"},{\"id\":1531,\"name\":\"NewID${Random}\",\"email\":\"victor.moreno00@bairesdev.com\",\"gender\":\"male\",\"status\":\"inactive\"},{\"id\":5410,\"name\":\"NewID${Random}\",\"email\":\"test123@mailinator.comm\",\"gender\":\"male\",\"status\":\"active\"},{\"id\":5427,\"name\":\"NewID${Random}\",\"email\":\"636pepito@yoloGroup.com\",\"gender\":\"male\",\"status\":\"active\"},{\"id\":5393,\"name\":\"Ricardo Lopez\",\"email\":\"mushamuday@gmail.com\",\"gender\":\"male\",\"status\":\"active\"},{\"id\":5430,\"name\":\"Milhouse\",\"email\":\"test_1634904616@mailinator.commm\",\"gender\":\"female\",\"status\":\"active\"},{\"id\":6877,\"name\":\"API Monitoring:r9uy4\",\"email\":\"apimonitoringr9uy4@synthetic.com\",\"gender\":\"male\",\"status\":\"active\"},{\"id\":5398,\"name\":\"Juan Perez\",\"email\":\"bramakrishnareddy@1634904703069ce.com\",\"gender\":\"male\",\"status\":\"active\"},{\"id\":5408,\"name\":\"Ricardo Lopez\",\"email\":\"bramakrishnareddy@1634904741066ce.com\",\"gender\":\"male\",\"status\":\"active\"},{\"id\":5402,\"name\":\"Milhouse\",\"email\":\"bramakrishnareddy@1634904721608ce.com\",\"gender\":\"male\",\"status\":\"active\"},{\"id\":5426,\"name\":\"Ricardo Lopez\",\"email\":\"bramakrishnareddy@1634904822705ce.com\",\"gender\":\"male\",\"status\":\"active\"}]}'"
      ]
     },
     "execution_count": 2,
     "metadata": {},
     "output_type": "execute_result"
    }
   ],
   "source": [
    "response=requests.get('https://gorest.co.in/public-api/users?_format=json&access-token=H4lYmIGLXZkDlpy_w0ZVS5rgcpDXbN7fhRRy')\n",
    "response.content"
   ]
  },
  {
   "cell_type": "code",
   "execution_count": 3,
   "id": "5cd82c9a",
   "metadata": {},
   "outputs": [
    {
     "data": {
      "text/plain": [
       "{'code': 200,\n",
       " 'meta': {'pagination': {'total': 2199, 'pages': 110, 'page': 1, 'limit': 20}},\n",
       " 'data': [{'id': 6817,\n",
       "   'name': 'API Monitoring:246mx',\n",
       "   'email': 'apimonitoring246mx@synthetic.com',\n",
       "   'gender': 'male',\n",
       "   'status': 'active'},\n",
       "  {'id': 6821,\n",
       "   'name': 'API Monitoring:9ilyoq',\n",
       "   'email': 'apimonitoring9ilyoq@synthetic.com',\n",
       "   'gender': 'male',\n",
       "   'status': 'active'},\n",
       "  {'id': 6869,\n",
       "   'name': 'API Monitoring:cc3s1x',\n",
       "   'email': 'apimonitoringcc3s1x@synthetic.com',\n",
       "   'gender': 'male',\n",
       "   'status': 'active'},\n",
       "  {'id': 5428,\n",
       "   'name': 'NewID${Random}',\n",
       "   'email': 'bramakrishnareddy@1634904829086ce.com',\n",
       "   'gender': 'male',\n",
       "   'status': 'active'},\n",
       "  {'id': 5406,\n",
       "   'name': 'NewID${Random}',\n",
       "   'email': 'bramakrishnareddy@1634904734512ce.com',\n",
       "   'gender': 'male',\n",
       "   'status': 'active'},\n",
       "  {'id': 5407,\n",
       "   'name': 'Ricardo Lopez',\n",
       "   'email': 'bramakrishnareddy@1634904739425ce.com',\n",
       "   'gender': 'male',\n",
       "   'status': 'active'},\n",
       "  {'id': 5450,\n",
       "   'name': 'NewID${Random}',\n",
       "   'email': 'bramakrishnareddy@1634904929325ce.com',\n",
       "   'gender': 'male',\n",
       "   'status': 'active'},\n",
       "  {'id': 5397,\n",
       "   'name': 'NewID${Random}',\n",
       "   'email': 'bramakrishnareddy@1634904694677ce.com',\n",
       "   'gender': 'male',\n",
       "   'status': 'active'},\n",
       "  {'id': 6874,\n",
       "   'name': 'API Monitoring:v5so5',\n",
       "   'email': 'apimonitoringv5so5@synthetic.com',\n",
       "   'gender': 'male',\n",
       "   'status': 'active'},\n",
       "  {'id': 1556,\n",
       "   'name': 'NewID${Random}',\n",
       "   'email': 'apimonitoringc1bki@synthetic.com',\n",
       "   'gender': 'male',\n",
       "   'status': 'active'},\n",
       "  {'id': 1531,\n",
       "   'name': 'NewID${Random}',\n",
       "   'email': 'victor.moreno00@bairesdev.com',\n",
       "   'gender': 'male',\n",
       "   'status': 'inactive'},\n",
       "  {'id': 5410,\n",
       "   'name': 'NewID${Random}',\n",
       "   'email': 'test123@mailinator.comm',\n",
       "   'gender': 'male',\n",
       "   'status': 'active'},\n",
       "  {'id': 5427,\n",
       "   'name': 'NewID${Random}',\n",
       "   'email': '636pepito@yoloGroup.com',\n",
       "   'gender': 'male',\n",
       "   'status': 'active'},\n",
       "  {'id': 5393,\n",
       "   'name': 'Ricardo Lopez',\n",
       "   'email': 'mushamuday@gmail.com',\n",
       "   'gender': 'male',\n",
       "   'status': 'active'},\n",
       "  {'id': 5430,\n",
       "   'name': 'Milhouse',\n",
       "   'email': 'test_1634904616@mailinator.commm',\n",
       "   'gender': 'female',\n",
       "   'status': 'active'},\n",
       "  {'id': 6877,\n",
       "   'name': 'API Monitoring:r9uy4',\n",
       "   'email': 'apimonitoringr9uy4@synthetic.com',\n",
       "   'gender': 'male',\n",
       "   'status': 'active'},\n",
       "  {'id': 5398,\n",
       "   'name': 'Juan Perez',\n",
       "   'email': 'bramakrishnareddy@1634904703069ce.com',\n",
       "   'gender': 'male',\n",
       "   'status': 'active'},\n",
       "  {'id': 5408,\n",
       "   'name': 'Ricardo Lopez',\n",
       "   'email': 'bramakrishnareddy@1634904741066ce.com',\n",
       "   'gender': 'male',\n",
       "   'status': 'active'},\n",
       "  {'id': 5402,\n",
       "   'name': 'Milhouse',\n",
       "   'email': 'bramakrishnareddy@1634904721608ce.com',\n",
       "   'gender': 'male',\n",
       "   'status': 'active'},\n",
       "  {'id': 5426,\n",
       "   'name': 'Ricardo Lopez',\n",
       "   'email': 'bramakrishnareddy@1634904822705ce.com',\n",
       "   'gender': 'male',\n",
       "   'status': 'active'}]}"
      ]
     },
     "execution_count": 3,
     "metadata": {},
     "output_type": "execute_result"
    }
   ],
   "source": [
    "data=response.json()\n",
    "data"
   ]
  },
  {
   "cell_type": "code",
   "execution_count": 4,
   "id": "45bf7654",
   "metadata": {},
   "outputs": [
    {
     "data": {
      "text/plain": [
       "dict"
      ]
     },
     "execution_count": 4,
     "metadata": {},
     "output_type": "execute_result"
    }
   ],
   "source": [
    "type(data)"
   ]
  },
  {
   "cell_type": "code",
   "execution_count": 5,
   "id": "c8866544",
   "metadata": {},
   "outputs": [
    {
     "name": "stdout",
     "output_type": "stream",
     "text": [
      "id: 6817 , name: API Monitoring:246mx , email:apimonitoring246mx@synthetic.com, gender: male, status: active  \n",
      "id: 6821 , name: API Monitoring:9ilyoq , email:apimonitoring9ilyoq@synthetic.com, gender: male, status: active  \n",
      "id: 6869 , name: API Monitoring:cc3s1x , email:apimonitoringcc3s1x@synthetic.com, gender: male, status: active  \n",
      "id: 5428 , name: NewID${Random} , email:bramakrishnareddy@1634904829086ce.com, gender: male, status: active  \n",
      "id: 5406 , name: NewID${Random} , email:bramakrishnareddy@1634904734512ce.com, gender: male, status: active  \n",
      "id: 5407 , name: Ricardo Lopez , email:bramakrishnareddy@1634904739425ce.com, gender: male, status: active  \n",
      "id: 5450 , name: NewID${Random} , email:bramakrishnareddy@1634904929325ce.com, gender: male, status: active  \n",
      "id: 5397 , name: NewID${Random} , email:bramakrishnareddy@1634904694677ce.com, gender: male, status: active  \n",
      "id: 6874 , name: API Monitoring:v5so5 , email:apimonitoringv5so5@synthetic.com, gender: male, status: active  \n",
      "id: 1556 , name: NewID${Random} , email:apimonitoringc1bki@synthetic.com, gender: male, status: active  \n",
      "id: 1531 , name: NewID${Random} , email:victor.moreno00@bairesdev.com, gender: male, status: inactive  \n",
      "id: 5410 , name: NewID${Random} , email:test123@mailinator.comm, gender: male, status: active  \n",
      "id: 5427 , name: NewID${Random} , email:636pepito@yoloGroup.com, gender: male, status: active  \n",
      "id: 5393 , name: Ricardo Lopez , email:mushamuday@gmail.com, gender: male, status: active  \n",
      "id: 5430 , name: Milhouse , email:test_1634904616@mailinator.commm, gender: female, status: active  \n",
      "id: 6877 , name: API Monitoring:r9uy4 , email:apimonitoringr9uy4@synthetic.com, gender: male, status: active  \n",
      "id: 5398 , name: Juan Perez , email:bramakrishnareddy@1634904703069ce.com, gender: male, status: active  \n",
      "id: 5408 , name: Ricardo Lopez , email:bramakrishnareddy@1634904741066ce.com, gender: male, status: active  \n",
      "id: 5402 , name: Milhouse , email:bramakrishnareddy@1634904721608ce.com, gender: male, status: active  \n",
      "id: 5426 , name: Ricardo Lopez , email:bramakrishnareddy@1634904822705ce.com, gender: male, status: active  \n"
     ]
    }
   ],
   "source": [
    "for users_data  in data['data']:\n",
    "    print(f\"id: {users_data['id']} , name: {users_data['name']} , email:{users_data['email']}, gender: {users_data['gender']}, status: {users_data['status']}  \")"
   ]
  },
  {
   "cell_type": "code",
   "execution_count": 6,
   "id": "efd6ba34",
   "metadata": {},
   "outputs": [],
   "source": [
    "import csv"
   ]
  },
  {
   "cell_type": "code",
   "execution_count": null,
   "id": "3a3459f9",
   "metadata": {},
   "outputs": [],
   "source": [
    "with open('users_data.csv','w',newline='') as df:\n",
    "    writer=csv.writer(df)\n",
    "    writer.writerow(['id','name','email','gender','status'])\n",
    "    for users_data in data['data']:\n",
    "        id=users_data['id']\n",
    "        name=users_data['name']\n",
    "        email=users_data['email']\n",
    "        gender=users_data['gender']\n",
    "        status=users_data['status']\n",
    "        writer.writerow([id,name,email,gender,status])"
   ]
  },
  {
   "cell_type": "code",
   "execution_count": null,
   "id": "8b84b30a",
   "metadata": {},
   "outputs": [],
   "source": [
    "import pandas as pd"
   ]
  },
  {
   "cell_type": "code",
   "execution_count": null,
   "id": "ad4a6d38",
   "metadata": {},
   "outputs": [],
   "source": [
    "df = pd.read_csv('users_data.csv')\n",
    "df"
   ]
  },
  {
   "cell_type": "code",
   "execution_count": null,
   "id": "c7c4a0a3",
   "metadata": {},
   "outputs": [],
   "source": [
    "df = df.replace({'status': {'active': 1, 'inactive': 0}})\n",
    "df"
   ]
  }
 ],
 "metadata": {
  "kernelspec": {
   "display_name": "Python 3",
   "language": "python",
   "name": "python3"
  },
  "language_info": {
   "codemirror_mode": {
    "name": "ipython",
    "version": 3
   },
   "file_extension": ".py",
   "mimetype": "text/x-python",
   "name": "python",
   "nbconvert_exporter": "python",
   "pygments_lexer": "ipython3",
   "version": "3.8.8"
  }
 },
 "nbformat": 4,
 "nbformat_minor": 5
}
